{
    "cells": [
        {
            "cell_type": "code",
            "execution_count": null,
            "metadata": {},
            "outputs": [],
            "source": [
                "import xarray as xr\n",
                "import matplotlib.pyplot as plt\n",
                "import numpy as np\n",
                "import glob\n",
                "import os\n",
                "\n",
                "from addict import Dict\n",
                "\n",
                "from vmodel.util import color as vcolor"
            ]
        },
        {
            "cell_type": "code",
            "execution_count": null,
            "metadata": {},
            "outputs": [],
            "source": [
                "plt.rcParams['figure.figsize'] = [4, 3.5]\n",
                "plt.rcParams['figure.autolayout'] = True"
            ]
        },
        {
            "cell_type": "markdown",
            "metadata": {},
            "source": [
                "# Pointmass"
            ]
        },
        {
            "cell_type": "code",
            "execution_count": null,
            "metadata": {},
            "outputs": [],
            "source": [
                "data_dir_point = '/home/fabian/vmodel_datasets/neighbor_selection/pointmass'"
            ]
        },
        {
            "cell_type": "code",
            "execution_count": null,
            "metadata": {},
            "outputs": [],
            "source": [
                "paths_point = sorted(glob.glob(data_dir_point + '/**/merged_*.nc', recursive=True))\n",
                "len(paths_point)"
            ]
        },
        {
            "cell_type": "code",
            "execution_count": null,
            "metadata": {},
            "outputs": [],
            "source": [
                "# Read datasets\n",
                "expdictpoint = Dict()\n",
                "for path in paths_point:\n",
                "    dirname = os.path.dirname(path)\n",
                "    dist_str, exp = dirname.split(os.path.sep)[-2:]\n",
                "    dist = int(dist_str.replace('dist', ''))\n",
                "    ds = xr.open_dataset(path)\n",
                "    ds['nndist_min'] = ds.nndist.min('agent')\n",
                "    del ds['nndist']\n",
                "    ds['nvisible_mean'] = ds.nvisible.mean('agent')\n",
                "    del ds['nvisible']\n",
                "    expdictpoint[dist][exp] = ds"
            ]
        },
        {
            "cell_type": "code",
            "execution_count": null,
            "metadata": {},
            "outputs": [],
            "source": [
                "distdictpoint = Dict()\n",
                "for dist in expdictpoint:\n",
                "    ds = xr.concat(expdictpoint[dist].values(), 'exp')\n",
                "    ds.coords['exp'] = list(expdictpoint[dist].keys())\n",
                "    distdictpoint[dist] = ds"
            ]
        },
        {
            "cell_type": "code",
            "execution_count": null,
            "metadata": {},
            "outputs": [],
            "source": [
                "# Concatenate datasets along distance\n",
                "dspointexps = xr.concat(distdictpoint.values(), 'dist')\n",
                "dspointexps.coords['dist'] = list(distdictpoint.keys())"
            ]
        },
        {
            "cell_type": "code",
            "execution_count": null,
            "metadata": {},
            "outputs": [],
            "source": [
                "if 'agent' in dspointexps.coords:\n",
                "    del dspointexps.coords['agent']"
            ]
        },
        {
            "cell_type": "code",
            "execution_count": null,
            "metadata": {},
            "outputs": [],
            "source": [
                "dspoint = dspointexps.sel(exp='visual_voronoi')\n",
                "if 'exp' in dspoint.coords:\n",
                "    del dspoint.coords['exp']"
            ]
        },
        {
            "cell_type": "code",
            "execution_count": null,
            "metadata": {},
            "outputs": [],
            "source": [
                "dssizepointall = dspoint.sel(dist=1, drop=True)\n",
                "dsdenspointall = dspoint.sel(nagents=100, drop=True)"
            ]
        },
        {
            "cell_type": "markdown",
            "metadata": {},
            "source": [
                "# Quadcopter"
            ]
        },
        {
            "cell_type": "code",
            "execution_count": null,
            "metadata": {},
            "outputs": [],
            "source": [
                "data_dir_quad = '/home/fabian/vmodel_datasets/neighbor_selection/quadcopter'"
            ]
        },
        {
            "cell_type": "code",
            "execution_count": null,
            "metadata": {},
            "outputs": [],
            "source": [
                "paths_quad = sorted(glob.glob(data_dir_quad + '/**/merged_*.nc', recursive=True))\n",
                "len(paths_quad)"
            ]
        },
        {
            "cell_type": "code",
            "execution_count": null,
            "metadata": {},
            "outputs": [],
            "source": [
                "# Read datasets\n",
                "expdictquad = Dict()\n",
                "for path in paths_quad:\n",
                "    dirname = os.path.dirname(path)\n",
                "    stuff = dirname.split(os.path.sep)[-1]\n",
                "    ds = xr.open_dataset(path)\n",
                "    ds['nndist_min'] = ds.nndist.min('agent')\n",
                "    del ds['nndist']\n",
                "    ds['nvisible_mean'] = ds.nvisible.mean('agent')\n",
                "    del ds['nvisible']\n",
                "    expdictquad[stuff] = ds\n"
            ]
        },
        {
            "cell_type": "code",
            "execution_count": null,
            "metadata": {},
            "outputs": [],
            "source": [
                "dsquad = xr.concat(expdictquad.values(), 'stuff')\n",
                "dsquad.coords['stuff'] = list(expdictquad.keys())"
            ]
        },
        {
            "cell_type": "code",
            "execution_count": null,
            "metadata": {},
            "outputs": [],
            "source": [
                "if 'agent' in dsquad.coords:\n",
                "    del dsquad.coords['agent']"
            ]
        },
        {
            "cell_type": "code",
            "execution_count": null,
            "metadata": {},
            "outputs": [],
            "source": [
                "dssizequadall = dsquad.sel(stuff='size', dist=1.0, drop=True)\n",
                "dsdendsquadall = dsquad.sel(stuff='density', nagents=100, drop=True)"
            ]
        },
        {
            "cell_type": "code",
            "execution_count": null,
            "metadata": {},
            "outputs": [],
            "source": [
                "labels = {\n",
                "    'point': 'point mass',\n",
                "    'quad': 'quadcopter'\n",
                "}"
            ]
        },
        {
            "cell_type": "code",
            "execution_count": null,
            "metadata": {},
            "outputs": [],
            "source": [
                "colors = {\n",
                "    'point': vcolor.pointmass,\n",
                "    'quad': vcolor.quadcopter\n",
                "}"
            ]
        },
        {
            "cell_type": "code",
            "execution_count": null,
            "metadata": {},
            "outputs": [],
            "source": [
                "timeslice = slice(150, 200)"
            ]
        },
        {
            "cell_type": "code",
            "execution_count": null,
            "metadata": {},
            "outputs": [],
            "source": [
                "dst = ds.isel(time=timeslice).mean('time')"
            ]
        },
        {
            "cell_type": "code",
            "execution_count": null,
            "metadata": {},
            "outputs": [],
            "source": [
                "distylim = (0.6, 1.2)\n",
                "ordylim = (0.65, 1.05)"
            ]
        },
        {
            "cell_type": "markdown",
            "metadata": {},
            "source": [
                "# Size"
            ]
        },
        {
            "cell_type": "code",
            "execution_count": null,
            "metadata": {},
            "outputs": [],
            "source": [
                "dssizeall = xr.concat([dssizepointall, dssizequadall], 'exp')\n",
                "dssizeall.coords['exp'] = ['point', 'quad']"
            ]
        },
        {
            "cell_type": "code",
            "execution_count": null,
            "metadata": {},
            "outputs": [],
            "source": [
                "dssize = dssizeall.isel(time=timeslice).mean('time')"
            ]
        },
        {
            "cell_type": "code",
            "execution_count": null,
            "metadata": {},
            "outputs": [],
            "source": [
                "def plot_size(ax, da):\n",
                "    for exp in da.exp.data:\n",
                "        data = da.sel(exp=exp)\n",
                "        xs, ys, yerrs = data.nagents, data.mean('run'), data.std('run')\n",
                "        label, color = labels[exp], colors[exp]\n",
                "        ax.errorbar(xs, ys, yerrs, fmt='-o', capsize=3, label=label, color=color)\n",
                "    ax.set(xscale='log')\n",
                "    ax.set(xticks=da.nagents, xticklabels=da.nagents.data)\n",
                "    ax.set(xlabel=r'number of agents $N$')\n",
                "    ax.grid()\n",
                "    ax.legend()"
            ]
        },
        {
            "cell_type": "markdown",
            "metadata": {},
            "source": [
                "### Distance vs. group size"
            ]
        },
        {
            "cell_type": "code",
            "execution_count": null,
            "metadata": {},
            "outputs": [],
            "source": [
                "fig, ax = plt.subplots()\n",
                "plot_size(ax, dssize.nndist_min)\n",
                "# ax.set(ylabel=r'min. nearest neighbor distance $d^\\mathrm{min}$ [$m$]')\n",
                "ax.set(ylabel=r'min. distance $d^\\mathrm{min}$ [$m$]')\n",
                "ax.set(ylim=distylim)\n",
                "fig.savefig(f'size_nndist_min.pdf')"
            ]
        },
        {
            "cell_type": "markdown",
            "metadata": {},
            "source": [
                "### Order vs. group size"
            ]
        },
        {
            "cell_type": "code",
            "execution_count": null,
            "metadata": {},
            "outputs": [],
            "source": [
                "fig, ax = plt.subplots()\n",
                "plot_size(ax, dssize.order)\n",
                "ax.set(ylabel=r'avg. order $\\phi^\\mathrm{order}$')\n",
                "ax.set(ylim=ordylim)\n",
                "fig.savefig(f'size_order.pdf')"
            ]
        },
        {
            "cell_type": "markdown",
            "metadata": {},
            "source": [
                "# Density"
            ]
        },
        {
            "cell_type": "code",
            "execution_count": null,
            "metadata": {},
            "outputs": [],
            "source": [
                "dsdensall = xr.concat([dsdenspointall, dsdendsquadall], 'exp')\n",
                "dsdensall.coords['exp'] = ['point', 'quad']"
            ]
        },
        {
            "cell_type": "code",
            "execution_count": null,
            "metadata": {},
            "outputs": [],
            "source": [
                "dsdens = dsdensall.isel(time=timeslice).mean('time')"
            ]
        },
        {
            "cell_type": "code",
            "execution_count": null,
            "metadata": {},
            "outputs": [],
            "source": [
                "def plot_density(ax, da):\n",
                "    for exp in da.exp.data:\n",
                "        data = da.sel(exp=exp)\n",
                "        xs, ys, yerrs = data.dist, data.mean('run'), data.std('run')\n",
                "        label, color = labels[exp], colors[exp]\n",
                "        ax.errorbar(xs, ys, yerrs, fmt='-o', capsize=3, label=label, color=color)\n",
                "    ax.set(xticks=da.dist, xticklabels=da.dist.data)\n",
                "    ax.set(xlabel=r'reference distance $d^\\mathrm{ref}$ [$m$]')\n",
                "    ax.grid()\n",
                "    ax.legend()"
            ]
        },
        {
            "cell_type": "code",
            "execution_count": null,
            "metadata": {},
            "outputs": [],
            "source": [
                "dsdens['nndist_norm'] = dsdens.nndist_min / dsdens.dist"
            ]
        },
        {
            "cell_type": "markdown",
            "metadata": {},
            "source": [
                "### Distance vs. density"
            ]
        },
        {
            "cell_type": "code",
            "execution_count": null,
            "metadata": {},
            "outputs": [],
            "source": [
                "fig, ax = plt.subplots()\n",
                "plot_density(ax, dsdens.nndist_norm)\n",
                "ax.set(ylabel=r'norm. min. distance $d^\\mathrm{norm}$')\n",
                "ax.set(ylim=distylim)\n",
                "fig.savefig(f'density_nndist_norm.pdf', bbox_inches='tight')\n",
                "pass"
            ]
        },
        {
            "cell_type": "markdown",
            "metadata": {},
            "source": [
                "### Order vs. density"
            ]
        },
        {
            "cell_type": "code",
            "execution_count": null,
            "metadata": {},
            "outputs": [],
            "source": [
                "fig, ax = plt.subplots()\n",
                "plot_density(ax, dsdens.order)\n",
                "ax.set(ylabel=r'avg. order $\\phi^{\\mathrm{order}}$')\n",
                "ax.set(ylim=ordylim)\n",
                "fig.savefig(f'density_order.pdf', bbox_inches='tight')\n",
                "pass"
            ]
        },
        {
            "cell_type": "code",
            "execution_count": null,
            "metadata": {},
            "outputs": [],
            "source": []
        }
    ],
    "metadata": {
        "interpreter": {
            "hash": "31f2aee4e71d21fbe5cf8b01ff0e069b9275f58929596ceb00d14d90e3e16cd6"
        },
        "kernelspec": {
            "display_name": "Python 3.6.9 64-bit",
            "name": "python3"
        },
        "language_info": {
            "codemirror_mode": {
                "name": "ipython",
                "version": 3
            },
            "file_extension": ".py",
            "mimetype": "text/x-python",
            "name": "python",
            "nbconvert_exporter": "python",
            "pygments_lexer": "ipython3",
            "version": "3.6.9"
        },
        "orig_nbformat": 4
    },
    "nbformat": 4,
    "nbformat_minor": 2
}
