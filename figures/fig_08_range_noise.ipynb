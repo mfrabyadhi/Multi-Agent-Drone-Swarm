{
    "cells": [
        {
            "cell_type": "code",
            "execution_count": null,
            "metadata": {},
            "outputs": [],
            "source": [
                "import xarray as xr\n",
                "import matplotlib.pyplot as plt\n",
                "import numpy as np\n",
                "import glob\n",
                "import os\n",
                "\n",
                "from vmodel.util import color as vcolor"
            ]
        },
        {
            "cell_type": "code",
            "execution_count": null,
            "metadata": {},
            "outputs": [],
            "source": [
                "\n",
                "plt.rcParams['figure.figsize'] = [4, 3.5]\n",
                "plt.rcParams['figure.autolayout'] = True"
            ]
        },
        {
            "cell_type": "code",
            "execution_count": null,
            "metadata": {},
            "outputs": [],
            "source": [
                "data_dir = '/home/fabian/vmodel_datasets/range_noise'"
            ]
        },
        {
            "cell_type": "code",
            "execution_count": null,
            "metadata": {},
            "outputs": [],
            "source": [
                "paths = sorted(glob.glob(data_dir + '/**/merged_*.nc', recursive=True))\n",
                "paths"
            ]
        },
        {
            "cell_type": "code",
            "execution_count": null,
            "metadata": {},
            "outputs": [],
            "source": [
                "# Read datasets\n",
                "expdict = {}\n",
                "for path in paths:\n",
                "    expname = os.path.split(os.path.dirname(path))[-1]\n",
                "    ds = xr.open_dataset(path)\n",
                "    expdict[expname] = ds"
            ]
        },
        {
            "cell_type": "code",
            "execution_count": null,
            "metadata": {},
            "outputs": [],
            "source": [
                "# Concatenate datasets along experiment name\n",
                "ds = xr.concat(expdict.values(), 'exp')\n",
                "ds.coords['exp'] = list(expdict.keys())"
            ]
        },
        {
            "cell_type": "code",
            "execution_count": null,
            "metadata": {},
            "outputs": [],
            "source": [
                "# Precompute distance metrics\n",
                "ds['nndist_min'] = ds.nndist.min('agent')\n",
                "ds['nndist_mean'] = ds.nndist.mean('agent')\n",
                "ds['nndist_std'] = ds.nndist.std('agent')"
            ]
        },
        {
            "cell_type": "code",
            "execution_count": null,
            "metadata": {},
            "outputs": [],
            "source": [
                "ds['nvisible_mean'] = ds.nvisible.mean('agent')\n",
                "ds['nvisible_std'] = ds.nvisible.std('agent')"
            ]
        },
        {
            "cell_type": "code",
            "execution_count": null,
            "metadata": {},
            "outputs": [],
            "source": [
                "labels = {\n",
                "    'metric': 'metric',\n",
                "    'visual': 'visual',\n",
                "    'visual_myopic': 'visual + myopic',\n",
                "    'visual_topo6': 'visual + topological',\n",
                "    'visual_voronoi': 'visual + voronoi',\n",
                "}"
            ]
        },
        {
            "cell_type": "code",
            "execution_count": null,
            "metadata": {},
            "outputs": [],
            "source": [
                "colors = {\n",
                "    'metric': vcolor.metric,\n",
                "    'visual': vcolor.visual,\n",
                "    'visual_myopic': vcolor.myopic,\n",
                "    'visual_topo6': vcolor.topological,\n",
                "    'visual_voronoi': vcolor.voronoi,\n",
                "}"
            ]
        },
        {
            "cell_type": "code",
            "execution_count": null,
            "metadata": {},
            "outputs": [],
            "source": [
                "expname = 'range_std'"
            ]
        },
        {
            "cell_type": "code",
            "execution_count": null,
            "metadata": {},
            "outputs": [],
            "source": [
                "timeslice = slice(150, 200)"
            ]
        },
        {
            "cell_type": "code",
            "execution_count": null,
            "metadata": {},
            "outputs": [],
            "source": [
                "def plot(ax, da, verbose=False):\n",
                "    for exp in da.exp.data:\n",
                "        data = da.sel(exp=exp)\n",
                "        xs, ys, yerrs = data.rngstd, data.mean('run'), data.std('run')\n",
                "        label, color = labels[exp], colors[exp]\n",
                "        ax.errorbar(xs, ys, yerrs, fmt='-o', capsize=3, label=label, color=color)\n",
                "        if verbose:\n",
                "            print(f'{exp}')\n",
                "            print(f'xs: {xs.data}')\n",
                "            print(f'ys: {np.round(ys.data, 2)}')\n",
                "            print(f'ye: {np.round(yerrs.data, 2)}')\n",
                "            print()\n",
                "    # ax.set(xscale='log')\n",
                "    ax.set(xticks=ds.rngstd, xticklabels=ds.rngstd.data)\n",
                "    ax.set(xlabel=r'range noise $\\sigma_d$ [$m$]')\n",
                "    ax.grid()\n",
                "    ax.legend()"
            ]
        },
        {
            "cell_type": "markdown",
            "metadata": {},
            "source": [
                "## Distance"
            ]
        },
        {
            "cell_type": "code",
            "execution_count": null,
            "metadata": {},
            "outputs": [],
            "source": [
                "fig, ax = plt.subplots()\n",
                "plot(ax, ds.nndist_min.isel(time=timeslice).min('time'))\n",
                "ax.set(ylabel=r'min. nearest neighbor distance $d^\\mathrm{min}$ [$m$]')\n",
                "ax.set(ylim=(-0.15, None))\n",
                "# ax.plot(ds.nagents.data, np.full(len(ds.nagents), 0.5), label='collision distance', ls='--', color='tab:red')\n",
                "ax.legend()\n",
                "fig.savefig(f'{expname}_nndist_min.pdf')\n",
                "pass"
            ]
        },
        {
            "cell_type": "markdown",
            "metadata": {},
            "source": [
                "## Order"
            ]
        },
        {
            "cell_type": "code",
            "execution_count": null,
            "metadata": {},
            "outputs": [],
            "source": [
                "fig, ax = plt.subplots()\n",
                "plot(ax, ds.order.isel(time=timeslice).mean('time'))\n",
                "ax.set(ylabel=r'avg. order $\\phi^{\\mathrm{order}}$')\n",
                "fig.savefig(f'{expname}_order.pdf')\n",
                "ax.set(ylim=(-0.15, None))\n",
                "pass"
            ]
        },
        {
            "cell_type": "markdown",
            "metadata": {},
            "source": [
                "## Union"
            ]
        },
        {
            "cell_type": "code",
            "execution_count": null,
            "metadata": {},
            "outputs": [],
            "source": [
                "fig, ax = plt.subplots()\n",
                "plot(ax, ds.union.isel(time=timeslice).mean('time'))\n",
                "ax.set(ylabel=r'avg. union $\\phi^{union}$')\n",
                "ax.set(ylim=(0.9, None))\n",
                "fig.savefig(f'{expname}_union.pdf')\n",
                "pass"
            ]
        },
        {
            "cell_type": "markdown",
            "metadata": {},
            "source": [
                "## Travel"
            ]
        },
        {
            "cell_type": "code",
            "execution_count": null,
            "metadata": {},
            "outputs": [],
            "source": [
                "# ds.traveldist.mean('run').plot(hue='exp')\n",
                "# ds.traveldist.mean('run').plot(hue='exp')\n",
                "fig, ax = plt.subplots()\n",
                "plot(ax, ds.traveldist)\n",
                "ax.set(ylabel=r'avg. travel distance $d^\\mathrm{travel}$ [$m$]')\n",
                "fig.savefig(f'{expname}_traveldist.pdf')\n",
                "pass"
            ]
        },
        {
            "cell_type": "code",
            "execution_count": null,
            "metadata": {},
            "outputs": [],
            "source": []
        }
    ],
    "metadata": {
        "interpreter": {
            "hash": "31f2aee4e71d21fbe5cf8b01ff0e069b9275f58929596ceb00d14d90e3e16cd6"
        },
        "kernelspec": {
            "display_name": "Python 3.8.2 64-bit",
            "name": "python3"
        },
        "language_info": {
            "codemirror_mode": {
                "name": "ipython",
                "version": 3
            },
            "file_extension": ".py",
            "mimetype": "text/x-python",
            "name": "python",
            "nbconvert_exporter": "python",
            "pygments_lexer": "ipython3",
            "version": "3.6.9"
        },
        "orig_nbformat": 4
    },
    "nbformat": 4,
    "nbformat_minor": 2
}
