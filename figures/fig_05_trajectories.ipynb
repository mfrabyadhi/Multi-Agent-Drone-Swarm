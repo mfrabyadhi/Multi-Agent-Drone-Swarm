{
    "cells": [
        {
            "cell_type": "code",
            "execution_count": null,
            "metadata": {},
            "outputs": [],
            "source": [
                "import glob\n",
                "import os\n",
                "\n",
                "from addict import Dict\n",
                "import xarray as xr\n",
                "import matplotlib.pyplot as plt\n",
                "\n",
                "from vmodel import plot as vplot\n",
                "from vmodel.util import color as vcolor\n",
                "from vmodel.util import mpl as vmpl\n",
                "\n",
                "%load_ext autoreload\n",
                "%autoreload 2\n"
            ]
        },
        {
            "cell_type": "code",
            "execution_count": null,
            "metadata": {},
            "outputs": [],
            "source": [
                "data_dir = '/home/fabian/vmodel_datasets/trajectories/pointmass'"
            ]
        },
        {
            "cell_type": "code",
            "execution_count": null,
            "metadata": {},
            "outputs": [],
            "source": [
                "num_agents = 30"
            ]
        },
        {
            "cell_type": "code",
            "execution_count": null,
            "metadata": {},
            "outputs": [],
            "source": [
                "paths = sorted(glob.glob(f'{data_dir}/**/agents_{num_agents}_*.nc', recursive=True))\n",
                "paths = [p for p in paths if '.metrics.nc' not in p]\n",
                "len(paths)"
            ]
        },
        {
            "cell_type": "code",
            "execution_count": null,
            "metadata": {},
            "outputs": [],
            "source": [
                "# Read datasets\n",
                "expdict = Dict()\n",
                "for path in paths:\n",
                "    expname = os.path.split(os.path.dirname(path))[-1]\n",
                "    ds = xr.open_dataset(path)\n",
                "    expdict[expname] = ds"
            ]
        },
        {
            "cell_type": "code",
            "execution_count": null,
            "metadata": {},
            "outputs": [],
            "source": [
                "expdict.keys()"
            ]
        },
        {
            "cell_type": "code",
            "execution_count": null,
            "metadata": {},
            "outputs": [],
            "source": [
                "ds = xr.concat(expdict.values(), 'exp')\n",
                "ds.coords['exp'] = list(expdict.keys())"
            ]
        },
        {
            "cell_type": "code",
            "execution_count": null,
            "metadata": {},
            "outputs": [],
            "source": [
                "timeslice = slice(0, 60)"
            ]
        },
        {
            "cell_type": "code",
            "execution_count": null,
            "metadata": {},
            "outputs": [],
            "source": [
                "ds = ds.sel(run=1).isel(time=timeslice)"
            ]
        },
        {
            "cell_type": "code",
            "execution_count": null,
            "metadata": {},
            "outputs": [],
            "source": [
                "figsize = (10, 3)"
            ]
        },
        {
            "cell_type": "code",
            "execution_count": null,
            "metadata": {},
            "outputs": [],
            "source": [
                "def plot_trajectories(ax, ds, focal_agent=1, exp='visual', focal_color='black'):\n",
                "    \"\"\"Plot trajectories of positions over time\n",
                "    Args:\n",
                "        ds (dataset): timestep x agent x state\n",
                "    \"\"\"\n",
                "    start, mid, end = 0, len(ds.time.data) // 2, -1\n",
                "\n",
                "    putlabel = True\n",
                "    for agent in ds.agent.data:\n",
                "\n",
                "        # Check if focal agent\n",
                "        isfocal = agent == focal_agent\n",
                "\n",
                "        xs, ys = ds.position.sel(agent=agent)\n",
                "\n",
                "        # alpha = 1.0 if isfocal else 0.5\n",
                "        # lw = 2.0 if isfocal else 0.5\n",
                "        alpha = 1.0\n",
                "        lw = 2.0 if isfocal else 1.0\n",
                "        color = focal_color if isfocal else vcolor.grey\n",
                "        zorder = 1 if isfocal else 0\n",
                "\n",
                "        if isfocal:\n",
                "            label = f'{exp} (focal)'\n",
                "        elif not isfocal and putlabel:\n",
                "            label = f'{exp} (others)'\n",
                "            putlabel = False\n",
                "        else:\n",
                "            label = None\n",
                "\n",
                "        # Plot trajectory\n",
                "        line = ax.plot(xs, ys, color=color, lw=lw, alpha=alpha, zorder=zorder, label=label)\n",
                "        # color = line[0].get_color()\n",
                "\n",
                "        # Plot trajectory start\n",
                "        x0, y0 = xs.isel(time=start), ys.isel(time=start)\n",
                "        ax.plot(x0, y0, color=color, marker='s', alpha=alpha, lw=lw, zorder=zorder)\n",
                "\n",
                "        # Plot mid point\n",
                "        xm, ym = xs.isel(time=mid), ys.isel(time=mid)\n",
                "        ax.plot(xm, ym, color=color, marker='>', alpha=alpha, lw=lw, zorder=zorder)\n",
                "\n",
                "        # Plot trajectory end\n",
                "        xt, yt = xs.isel(time=end), ys.isel(time=end)\n",
                "        circle = plt.Circle((xt, yt), color=color, radius=0.25, alpha=alpha, lw=lw, zorder=zorder)\n",
                "        ax.add_patch(circle)\n",
                "        # ax.plot(xt, yt, color=color, marker='o', alpha=alpha, lw=lw, zorder=zorder)\n",
                "\n",
                "    # ax.grid()\n",
                "    offset = 7\n",
                "    ax.set(ylim=(-offset, offset), xlim=(-offset, 29 + offset))\n",
                "    ax.set(xlabel=r'$x$ position [$m$]', ylabel=r'$y$ position [$m$]')\n",
                "    ax.set(aspect='equal')\n",
                "\n",
                "    handles, labels = ax.get_legend_handles_labels()\n",
                "    order = [1, 0]\n",
                "    newhandles = [handles[i] for i in order]\n",
                "    newlabels = [labels[i] for i in order]\n",
                "    ax.legend(newhandles, newlabels, loc='upper center', ncol=2)\n",
                "    ax.locator_params(axis='y', nbins=5)"
            ]
        },
        {
            "cell_type": "code",
            "execution_count": null,
            "metadata": {},
            "outputs": [],
            "source": [
                "focal_agent = 12"
            ]
        },
        {
            "cell_type": "markdown",
            "metadata": {},
            "source": [
                "## Visual"
            ]
        },
        {
            "cell_type": "code",
            "execution_count": null,
            "metadata": {},
            "outputs": [],
            "source": [
                "fig, ax = plt.subplots(figsize=figsize)\n",
                "exp = 'visual'\n",
                "plot_trajectories(ax, ds.sel(exp='visual'), focal_agent=focal_agent, exp=exp, focal_color=vcolor.visual)\n",
                "fig.savefig(f'trajectories_visual.pdf', bbox_inches='tight')"
            ]
        },
        {
            "cell_type": "markdown",
            "metadata": {},
            "source": [
                "## Visual + voronoi"
            ]
        },
        {
            "cell_type": "code",
            "execution_count": null,
            "metadata": {},
            "outputs": [],
            "source": [
                "fig, ax = plt.subplots(figsize=figsize)\n",
                "exp = 'visual + voronoi'\n",
                "plot_trajectories(ax, ds.sel(exp='voronoi'), focal_agent=focal_agent, exp=exp, focal_color=vcolor.voronoi)\n",
                "fig.savefig(f'trajectories_visual_voronoi.pdf', bbox_inches='tight')"
            ]
        },
        {
            "cell_type": "markdown",
            "metadata": {},
            "source": [
                "## Visual + myopic"
            ]
        },
        {
            "cell_type": "code",
            "execution_count": null,
            "metadata": {},
            "outputs": [],
            "source": [
                "fig, ax = plt.subplots(figsize=figsize)\n",
                "exp = 'visual + myopic'\n",
                "plot_trajectories(ax, ds.sel(exp='myopic'), focal_agent=focal_agent, exp=exp, focal_color=vcolor.myopic)\n",
                "fig.savefig(f'trajectories_visual_myopic.pdf', bbox_inches='tight')"
            ]
        },
        {
            "cell_type": "markdown",
            "metadata": {},
            "source": [
                "## Visual + topological"
            ]
        },
        {
            "cell_type": "code",
            "execution_count": null,
            "metadata": {},
            "outputs": [],
            "source": [
                "fig, ax = plt.subplots(figsize=figsize)\n",
                "exp = 'visual + topological'\n",
                "plot_trajectories(ax, ds.sel(exp='topo'), focal_agent=focal_agent, exp=exp, focal_color=vcolor.topological)\n",
                "fig.savefig(f'trajectories_visual_topo.pdf', bbox_inches='tight')"
            ]
        },
        {
            "cell_type": "code",
            "execution_count": null,
            "metadata": {},
            "outputs": [],
            "source": []
        }
    ],
    "metadata": {
        "interpreter": {
            "hash": "31f2aee4e71d21fbe5cf8b01ff0e069b9275f58929596ceb00d14d90e3e16cd6"
        },
        "kernelspec": {
            "display_name": "Python 3.6.9 64-bit",
            "name": "python3"
        },
        "language_info": {
            "codemirror_mode": {
                "name": "ipython",
                "version": 3
            },
            "file_extension": ".py",
            "mimetype": "text/x-python",
            "name": "python",
            "nbconvert_exporter": "python",
            "pygments_lexer": "ipython3",
            "version": "3.6.9"
        },
        "orig_nbformat": 4
    },
    "nbformat": 4,
    "nbformat_minor": 2
}
