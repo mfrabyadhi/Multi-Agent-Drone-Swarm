{
    "cells": [
        {
            "cell_type": "code",
            "execution_count": null,
            "metadata": {},
            "outputs": [],
            "source": [
                "import xarray as xr\n",
                "import numpy as np\n",
                "import matplotlib.pyplot as plt\n",
                "\n",
                "from vmodel.visibility import visibility_set\n",
                "import vmodel.geometry as vgeom\n",
                "\n",
                "import vmodel.util.color as vcolor\n",
                "from addict import Dict"
            ]
        },
        {
            "cell_type": "code",
            "execution_count": null,
            "metadata": {},
            "outputs": [],
            "source": [
                "plt.rcParams['figure.figsize'] = [4, 4]\n",
                "plt.rcParams['figure.autolayout'] = True"
            ]
        },
        {
            "cell_type": "code",
            "execution_count": null,
            "metadata": {},
            "outputs": [],
            "source": [
                "path = '/home/fabian/vmodel_datasets/visual_switching/agents_300_runs_1_times_100_dist_1.0_perc_10.0_topo_0_rngstd_0.0.states.nc'"
            ]
        },
        {
            "cell_type": "code",
            "execution_count": null,
            "metadata": {},
            "outputs": [],
            "source": [
                "ds = xr.open_dataset(path).sel(run=1)"
            ]
        },
        {
            "cell_type": "code",
            "execution_count": null,
            "metadata": {},
            "outputs": [],
            "source": [
                "# Only every 10th timestep\n",
                "vis = ds.visibility"
            ]
        },
        {
            "cell_type": "code",
            "execution_count": null,
            "metadata": {},
            "outputs": [],
            "source": [
                "# Create switches array (shift by one timestep and apply XOR)\n",
                "switches = np.logical_xor(vis, vis.shift(time=1, fill_value=False)).sum('agent2')"
            ]
        },
        {
            "cell_type": "code",
            "execution_count": null,
            "metadata": {},
            "outputs": [],
            "source": [
                "timestep = 12"
            ]
        },
        {
            "cell_type": "code",
            "execution_count": null,
            "metadata": {},
            "outputs": [],
            "source": [
                "def plot(ax, ds, timestep=1, focal_agent=1, center_agent=True, plot_text=False, plot_appearance=True):\n",
                "\n",
                "    dst = ds.isel(time=timestep)\n",
                "\n",
                "    margin = dst.perception_radius  # margin around focal agent\n",
                "    perception_radius = dst.perception_radius\n",
                "    radius = float(ds.radius)\n",
                "\n",
                "    pos_self = dst.position.sel(agent=focal_agent)\n",
                "    px, py = pos_self.data\n",
                "    px, py\n",
                "\n",
                "    # Position computation\n",
                "    positions = dst.position.data\n",
                "    pos_self = positions[focal_agent - 1]\n",
                "    pos_others = np.delete(positions, focal_agent - 1, axis=0) - pos_self\n",
                "    distances = np.insert(np.linalg.norm(pos_others, axis=1), focal_agent - 1, float('inf'))\n",
                "    pos_others_me = np.insert(pos_others, focal_agent - 1, np.array([0, 0]), axis=0)\n",
                "\n",
                "    too_far = distances > perception_radius\n",
                "\n",
                "    # Center figure around agent or swarm\n",
                "    if center_agent:\n",
                "        xlim = (px - margin, px + margin)\n",
                "        ylim = (py - margin, py + margin)\n",
                "    else:\n",
                "        xlim = (positions[:, 0].min(), positions[:, 0].max())\n",
                "        ylim = (positions[:, 1].min(), positions[:, 1].max())\n",
                "\n",
                "\n",
                "    # Add background rectangle\n",
                "    perc_radius = plt.Circle((px, py), radius=perception_radius, color='white', zorder=1)\n",
                "    ax.add_patch(perc_radius)\n",
                "\n",
                "    perc_circle = plt.Circle((px, py), radius=perception_radius, fill=False, ls=':', lw=0.5, ec='grey', zorder=100)\n",
                "    ax.add_patch(perc_circle)\n",
                "\n",
                "    # Loop over other agents\n",
                "    for a in dst.agent.data:\n",
                "        dsa = dst.sel(agent=a)\n",
                "\n",
                "        istoofar = too_far[a - 1]\n",
                "        isfocal = (a == focal_agent)\n",
                "        isvisible = dst.visibility.sel(agent=focal_agent, agent2=a).data\n",
                "\n",
                "        if isfocal:\n",
                "            color = vcolor.focal\n",
                "        elif istoofar:\n",
                "            color = vcolor.invisible\n",
                "        elif not istoofar and isvisible:\n",
                "            color = vcolor.visual\n",
                "        elif not istoofar and not isvisible:\n",
                "            color = vcolor.grey\n",
                "\n",
                "        x, y = dsa.position\n",
                "        dx, dy = dsa.velocity\n",
                "        speed = np.linalg.norm([dx, dy])\n",
                "\n",
                "        timeslice = slice(timestep - 10, timestep)\n",
                "        \n",
                "        if plot_appearance:\n",
                "            wasvisible = ds.visibility.isel(time=slice(timestep - 10, timestep)).mean('time').sel(agent=focal_agent, agent2=a).data.round().astype(bool)\n",
                "            # wasvisible = ds.visibility.isel(time=timestep -1).sel(agent=focal_agent, agent2=a).data.astype(bool)\n",
                "            didappear = not wasvisible and isvisible\n",
                "            diddisappear = wasvisible and not isvisible\n",
                "            if didappear:\n",
                "                color = vcolor.voronoi\n",
                "            elif diddisappear:\n",
                "                color = vcolor.topological\n",
                "\n",
                "        # Plot tail\n",
                "        xs, ys = ds.position.sel(agent=a).isel(time=timeslice).data\n",
                "        ax.plot(xs, ys, color=color, alpha=0.5, zorder=99)\n",
                "\n",
                "        # Plot position\n",
                "        ax.plot(x, y)\n",
                "        circle = plt.Circle((x, y), radius=radius, color=color, zorder=99)\n",
                "        ax.add_patch(circle)\n",
                "\n",
                "        # Plot velocity\n",
                "        # head_length = 0.3 * speed\n",
                "        # head_width = head_length / 2\n",
                "        # ax.arrow(x, y, dx, dy, color=color, head_length=head_length, head_width=head_width,\n",
                "        #         length_includes_head=True, zorder=99)\n",
                "\n",
                "        # Plot agent number\n",
                "        if plot_text:\n",
                "            ax.text(x, y, s=f'{a}', ha='center', va='center', zorder=100)\n",
                "        if not isfocal:\n",
                "            p1, p2 = vgeom.tangent_points_to_circle(pos_others_me[a - 1], radius)\n",
                "            p1, p2 = np.array(p1), np.array(p2)\n",
                "            ps1, ps2 = p1 * perception_radius * 4, p2 * perception_radius * 4\n",
                "            origin = np.array([px, py])  # need to translate by origin!!\n",
                "            poly = np.array([p1, ps1, ps2, p2]) + origin\n",
                "            polygon = plt.Polygon(poly, color=vcolor.lightgrey, zorder=1)\n",
                "            ax.add_patch(polygon)\n",
                "        \n",
                "    ax.set(xlim=xlim, ylim=ylim)\n",
                "    ax.set(aspect='equal')\n",
                "    ax.set(xlabel='x [m]', ylabel='y [m]')\n",
                "    ax.set(facecolor=vcolor.lightgrey)\n",
                "    # ax.set(title=f'T = {timestep}s')\n"
            ]
        },
        {
            "cell_type": "code",
            "execution_count": null,
            "metadata": {},
            "outputs": [],
            "source": [
                "# fig, axes = plt.subplots(ncols=3, figsize=(20, 20), sharey=True)\n",
                "focal_agent = 65  # take some agent as focal agent\n",
                "plot_text = False\n",
                "start = 10\n",
                "offset = 10\n",
                "timesteps = [start, start + offset, start + 2 * offset, start + 3 * offset]\n",
                "for i in range(len(timesteps)):\n",
                "    # ax = axes[i]\n",
                "    timestep = timesteps[i]\n",
                "    fig, ax = plt.subplots()\n",
                "    plot(ax, ds, timestep=timestep, focal_agent=focal_agent, plot_text=False)\n",
                "    ax.locator_params(axis='y', nbins=4)\n",
                "    ax.grid()\n",
                "    fig.savefig(f'visual_switching_{i + 1}.pdf')\n"
            ]
        },
        {
            "cell_type": "code",
            "execution_count": null,
            "metadata": {},
            "outputs": [],
            "source": []
        }
    ],
    "metadata": {
        "interpreter": {
            "hash": "31f2aee4e71d21fbe5cf8b01ff0e069b9275f58929596ceb00d14d90e3e16cd6"
        },
        "kernelspec": {
            "display_name": "Python 3.6.9 64-bit",
            "name": "python3"
        },
        "language_info": {
            "codemirror_mode": {
                "name": "ipython",
                "version": 3
            },
            "file_extension": ".py",
            "mimetype": "text/x-python",
            "name": "python",
            "nbconvert_exporter": "python",
            "pygments_lexer": "ipython3",
            "version": "3.6.9"
        },
        "orig_nbformat": 4
    },
    "nbformat": 4,
    "nbformat_minor": 2
}
