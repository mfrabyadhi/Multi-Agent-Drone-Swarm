{
 "cells": [
  {
   "cell_type": "code",
   "execution_count": null,
   "metadata": {},
   "outputs": [],
   "source": [
    "import glob\n",
    "import os\n",
    "\n",
    "from addict import Dict\n",
    "import functools\n",
    "import xarray as xr\n",
    "import numpy as np\n",
    "import matplotlib.pyplot as plt\n",
    "import vmodel.util.xarray as xrutil\n",
    "from vmodel import plot\n",
    "from vmodel import metrics\n",
    "\n",
    "%load_ext autoreload\n",
    "%autoreload 2"
   ]
  },
  {
   "cell_type": "code",
   "execution_count": null,
   "metadata": {},
   "outputs": [],
   "source": [
    "plt.rcParams['figure.autolayout'] = True\n",
    "plt.rcParams['figure.figsize'] = [6, 3.5]"
   ]
  },
  {
   "cell_type": "code",
   "execution_count": null,
   "metadata": {},
   "outputs": [],
   "source": [
    "# Each subfolder contains an experiment\n",
    "expdir = '/home/fabian/vmodel_datasets/ref_distance_figure'\n",
    "plotname = expdir.split(os.path.sep)[-1]\n",
    "plotname"
   ]
  },
  {
   "cell_type": "code",
   "execution_count": null,
   "metadata": {},
   "outputs": [],
   "source": [
    "paths = sorted(glob.glob(f'{expdir}/**/*merged*.nc', recursive=True))\n",
    "paths[0], len(paths)"
   ]
  },
  {
   "cell_type": "code",
   "execution_count": null,
   "metadata": {},
   "outputs": [],
   "source": [
    "# Fill experimental dictionary: experiment -> num_agents -> ds\n",
    "expdict = Dict()\n",
    "key = 'num_agents'\n",
    "for path in paths:\n",
    "    # ds = pickle.load(open(path, 'rb'))\n",
    "    ds = xr.open_dataset(path)\n",
    "    *_, expname, fname = path.split(os.path.sep)\n",
    "    expdict[float(expname.replace('dist', ''))] = ds"
   ]
  },
  {
   "cell_type": "code",
   "execution_count": null,
   "metadata": {},
   "outputs": [],
   "source": [
    "ds = xr.concat(expdict.values(), 'dist')\n",
    "ds.coords['dist'] = list(expdict.keys())"
   ]
  },
  {
   "cell_type": "code",
   "execution_count": null,
   "metadata": {},
   "outputs": [],
   "source": [
    "sepgains = [d ** 2 / 2 for d in ds.dist.data]\n",
    "sepgains"
   ]
  },
  {
   "cell_type": "code",
   "execution_count": null,
   "metadata": {},
   "outputs": [],
   "source": [
    "fig, ax = plt.subplots()\n",
    "mindist = ds.nndist.min('agent').isel(time=slice(400, None)).mean('time')\n",
    "for dist, dsagents in mindist.groupby('dist'):\n",
    "    xs = dsagents.nagents.data\n",
    "    ys, yerrs = dsagents.mean('run'), dsagents.std('run')\n",
    "    ax.errorbar(xs, ys, yerrs, fmt='-o', capsize=3)\n",
    "ax.grid()\n",
    "# ax.legend()\n",
    "ax.set(xscale='log')\n",
    "ax.set(xticks=ds.nagents.data, xticklabels=ds.nagents.data)\n",
    "ax.set(yticks=ds.dist.data, yticklabels=ds.dist.data)\n",
    "# ax.set(ylim=(0, None))\n",
    "secax = ax.secondary_yaxis('right')\n",
    "ax.set(xlabel=r'number of agents $N$', ylabel=r'min. distance $d^\\mathrm{min}$ [$m$]')\n",
    "secax.set(ylabel=r'separation gain $k^\\mathrm{sep}$ [$m s^{-1}$]')\n",
    "secax.set(yticks=ds.dist.data, yticklabels=sepgains)\n",
    "pass\n",
    "fig.savefig(f'ref_distance_scalability.pdf', bbox_inches='tight')"
   ]
  },
  {
   "cell_type": "code",
   "execution_count": null,
   "metadata": {},
   "outputs": [],
   "source": []
  }
 ],
 "metadata": {
  "interpreter": {
   "hash": "31f2aee4e71d21fbe5cf8b01ff0e069b9275f58929596ceb00d14d90e3e16cd6"
  },
  "kernelspec": {
   "display_name": "Python 3.6.9 64-bit",
   "name": "python3"
  },
  "language_info": {
   "codemirror_mode": {
    "name": "ipython",
    "version": 3
   },
   "file_extension": ".py",
   "mimetype": "text/x-python",
   "name": "python",
   "nbconvert_exporter": "python",
   "pygments_lexer": "ipython3",
   "version": "3.6.9"
  },
  "orig_nbformat": 4
 },
 "nbformat": 4,
 "nbformat_minor": 2
}
