{
 "cells": [
  {
   "cell_type": "code",
   "execution_count": null,
   "metadata": {},
   "outputs": [],
   "source": [
    "import numpy as np\n",
    "import matplotlib.pyplot as plt"
   ]
  },
  {
   "cell_type": "code",
   "execution_count": null,
   "metadata": {},
   "outputs": [],
   "source": [
    "plt.rcParams['figure.autolayout'] = True\n",
    "plt.rcParams['figure.figsize'] = [6, 3]"
   ]
  },
  {
   "cell_type": "code",
   "execution_count": null,
   "metadata": {},
   "outputs": [],
   "source": [
    "start, end = 1e-9, 10\n",
    "dist = np.linspace(start, end, 100)\n"
   ]
  },
  {
   "cell_type": "code",
   "execution_count": null,
   "metadata": {},
   "outputs": [],
   "source": [
    "d_ref = 3\n",
    "sep_gain = d_ref ** 2"
   ]
  },
  {
   "cell_type": "code",
   "execution_count": null,
   "metadata": {},
   "outputs": [],
   "source": [
    "rep = 1 / dist * sep_gain\n",
    "coh = dist.copy()\n",
    "tot = rep + coh"
   ]
  },
  {
   "cell_type": "code",
   "execution_count": null,
   "metadata": {},
   "outputs": [],
   "source": [
    "fig, ax = plt.subplots()\n",
    "color_sep, color_coh = 'tab:red', 'tab:green'\n",
    "color_eq = 'black'\n",
    "ax.plot(dist, rep, color=color_sep)\n",
    "ax.plot(dist, coh, color=color_coh)\n",
    "# ax.plot(dist, tot, color='tab:blue')\n",
    "ax.text(0.75, 20, 'separation', color=color_sep)\n",
    "ax.text(6, 9, 'cohesion', color=color_coh)\n",
    "\n",
    "ax.text(3, 12, 'equilibrium\\n distance', color='black', ha='center', va='center')\n",
    "ax.arrow(3, 9, 0, -4, width=0.01, head_width=0.1, head_length=0.5, length_includes_head=True, ec='black', fc='black')\n",
    "ax.set(xlim=(0, end), ylim=(0, 30))\n",
    "ax.set(xlabel=r'inter-agent distance $d_{ij}$ [$m$]', ylabel=r'pairwise potential')\n",
    "fig.savefig('pairwise_potential.pdf')\n",
    "# ax.grid()\n",
    "# ax.set(xticklabels=[], yticklabels=[])\n",
    "pass"
   ]
  },
  {
   "cell_type": "code",
   "execution_count": null,
   "metadata": {},
   "outputs": [],
   "source": []
  }
 ],
 "metadata": {
  "interpreter": {
   "hash": "31f2aee4e71d21fbe5cf8b01ff0e069b9275f58929596ceb00d14d90e3e16cd6"
  },
  "kernelspec": {
   "display_name": "Python 3.6.9 64-bit",
   "name": "python3"
  },
  "language_info": {
   "codemirror_mode": {
    "name": "ipython",
    "version": 3
   },
   "file_extension": ".py",
   "mimetype": "text/x-python",
   "name": "python",
   "nbconvert_exporter": "python",
   "pygments_lexer": "ipython3",
   "version": "3.6.9"
  },
  "orig_nbformat": 4
 },
 "nbformat": 4,
 "nbformat_minor": 2
}
