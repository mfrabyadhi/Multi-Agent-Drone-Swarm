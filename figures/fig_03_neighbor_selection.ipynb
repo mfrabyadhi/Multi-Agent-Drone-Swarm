{
 "cells": [
  {
   "cell_type": "code",
   "execution_count": null,
   "metadata": {},
   "outputs": [],
   "source": [
    "import numpy as np\n",
    "import matplotlib.pyplot as plt\n",
    "\n",
    "import vmodel.random as vrandom\n",
    "import vmodel.liveplot as vplot\n",
    "import vmodel.geometry as vgeom\n",
    "import vmodel.visibility as vvis\n",
    "import vmodel.util.color as vcolor\n",
    "\n",
    "from scipy.spatial import Voronoi, Delaunay, ConvexHull\n",
    "\n",
    "from vmodel.plot import voronoi_plot_2d\n",
    "\n",
    "%load_ext autoreload\n",
    "%autoreload 2"
   ]
  },
  {
   "cell_type": "code",
   "execution_count": null,
   "metadata": {},
   "outputs": [],
   "source": [
    "num_agents = 200\n",
    "radius_agent = 0.25\n",
    "radius_arena = 10\n",
    "radius_perc = 3\n",
    "min_dist = 1\n",
    "maxlim = radius_arena + radius_agent * 2\n",
    "k = np.sqrt(2)\n",
    "lim = (-radius_perc * k, radius_perc * k)"
   ]
  },
  {
   "cell_type": "code",
   "execution_count": null,
   "metadata": {},
   "outputs": [],
   "source": [
    "# positions = vrandom.poisson_disk_spherical(radius_arena, min_dist, num_agents, candidate='first')\n",
    "# positions.shape"
   ]
  },
  {
   "cell_type": "code",
   "execution_count": null,
   "metadata": {},
   "outputs": [],
   "source": [
    "# Save random positions to CSV for reproducibility\n",
    "# np.savetxt('agent_positions.csv', positions)"
   ]
  },
  {
   "cell_type": "code",
   "execution_count": null,
   "metadata": {},
   "outputs": [],
   "source": [
    "positions = np.loadtxt('agent_positions.csv')"
   ]
  },
  {
   "cell_type": "code",
   "execution_count": null,
   "metadata": {},
   "outputs": [],
   "source": [
    "# Find pos self!\n",
    "index = [i for i in range(len(positions)) if positions[i][0] == 0][0]\n",
    "index"
   ]
  },
  {
   "cell_type": "code",
   "execution_count": null,
   "metadata": {},
   "outputs": [],
   "source": [
    "pos_self = positions[index]\n",
    "pos_others = np.delete(positions, index, axis=0)"
   ]
  },
  {
   "cell_type": "code",
   "execution_count": null,
   "metadata": {},
   "outputs": [],
   "source": [
    "visibility = vvis.visibility_set(pos_others, radius_agent)\n",
    "visibility.shape"
   ]
  },
  {
   "cell_type": "code",
   "execution_count": null,
   "metadata": {},
   "outputs": [],
   "source": [
    "max_agents = 6\n",
    "distances = np.linalg.norm(pos_others, axis=1)\n",
    "indices = distances.argsort()[:max_agents]"
   ]
  },
  {
   "cell_type": "code",
   "execution_count": null,
   "metadata": {},
   "outputs": [],
   "source": [
    "color_gray = vcolor.grey\n",
    "color_blue = vcolor.blue\n",
    "color_lgray = vcolor.lightgrey\n",
    "figsize = (5, 5)"
   ]
  },
  {
   "cell_type": "markdown",
   "metadata": {},
   "source": [
    "# Metric"
   ]
  },
  {
   "cell_type": "code",
   "execution_count": null,
   "metadata": {},
   "outputs": [],
   "source": [
    "fig, ax = plt.subplots(figsize=figsize)\n",
    "\n",
    "# Add background rectangle\n",
    "xy, size = (-maxlim, -maxlim), 2 * maxlim\n",
    "background = plt.Rectangle(xy, size, size, color=color_lgray)\n",
    "ax.add_patch(background)\n",
    "\n",
    "perc_radius = plt.Circle((0, 0), radius=radius_perc, color='white')\n",
    "ax.add_patch(perc_radius)\n",
    "\n",
    "perc_circle = plt.Circle((0, 0), radius=radius_perc, fill=False, ls=':', lw=0.5, ec='grey', zorder=100)\n",
    "ax.add_patch(perc_circle)\n",
    "\n",
    "for i, pos in enumerate(pos_others):\n",
    "\n",
    "    too_far = distances[i] > radius_perc\n",
    "    color = color_gray if too_far else color_blue\n",
    "\n",
    "    vplot.plot_circle(ax, pos, radius=radius_agent, color=color, zorder=2, fill=True)\n",
    "vplot.plot_circle(ax, (0, 0), radius=radius_agent, color='tab:red', zorder=99)\n",
    "ax.set(aspect='equal')\n",
    "ax.set(xlim=lim, ylim=lim)\n",
    "ax.set(xticks=[], yticks=[])\n",
    "fig.savefig(f'1_neighbor_selection_metric.pdf', bbox_inches='tight')"
   ]
  },
  {
   "cell_type": "markdown",
   "metadata": {},
   "source": [
    "# Visual"
   ]
  },
  {
   "cell_type": "code",
   "execution_count": null,
   "metadata": {},
   "outputs": [],
   "source": [
    "fig, ax = plt.subplots(figsize=figsize)\n",
    "scale = 100\n",
    "\n",
    "# Add background rectangle\n",
    "xy, size = (-maxlim, -maxlim), 2 * maxlim\n",
    "\n",
    "# Add background rectangle\n",
    "xy, size = (-maxlim, -maxlim), 2 * maxlim\n",
    "background = plt.Rectangle(xy, size, size, color=color_lgray)\n",
    "ax.add_patch(background)\n",
    "\n",
    "perc_radius = plt.Circle((0, 0), radius=radius_perc, color='white')\n",
    "ax.add_patch(perc_radius)\n",
    "\n",
    "perc_circle = plt.Circle((0, 0), radius=radius_perc, fill=False, ls=':', lw=0.5, ec='grey', zorder=100)\n",
    "ax.add_patch(perc_circle)\n",
    "\n",
    "for i, pos in enumerate(pos_others):\n",
    "\n",
    "    # Draw tangent points\n",
    "    p1, p2 = vgeom.tangent_points_to_circle(pos, radius_agent)\n",
    "    p1, p2 = np.array(p1), np.array(p2)\n",
    "\n",
    "    ps1, ps2 = p1 * scale, p2 * scale\n",
    "    d1, d2 = np.linalg.norm(p1), np.linalg.norm(p2)\n",
    "\n",
    "    poly = np.array([p1, ps1, ps2, p2])\n",
    "    polygon = plt.Polygon(poly, color=color_lgray, zorder=1)\n",
    "    ax.add_patch(polygon)\n",
    "\n",
    "    isvisible = visibility[i]\n",
    "    isclose = distances[i] < radius_perc\n",
    "    isneighbor = isvisible and isclose\n",
    "\n",
    "    color = color_blue if isneighbor else color_gray\n",
    "\n",
    "    vplot.plot_circle(ax, pos, radius=radius_agent, color=color, zorder=2, fill=True)\n",
    "vplot.plot_circle(ax, (0, 0), radius=radius_agent, color='tab:red', zorder=99)\n",
    "ax.set(aspect='equal')\n",
    "ax.set(xlim=lim, ylim=lim)\n",
    "ax.set(xticks=[], yticks=[])\n",
    "fig.savefig(f'2_neighbor_selection_visual.pdf', bbox_inches='tight')"
   ]
  },
  {
   "cell_type": "markdown",
   "metadata": {},
   "source": [
    "# Topological"
   ]
  },
  {
   "cell_type": "code",
   "execution_count": null,
   "metadata": {},
   "outputs": [],
   "source": [
    "fig, ax = plt.subplots(figsize=figsize)\n",
    "\n",
    "# Add background rectangle\n",
    "xy, size = (-maxlim, -maxlim), 2 * maxlim\n",
    "background = plt.Rectangle(xy, size, size, color=color_lgray)\n",
    "ax.add_patch(background)\n",
    "\n",
    "# Sort by polar coordinates\n",
    "pos_topo = [p for p in pos_others[indices]]\n",
    "pos_topo.sort(key=lambda p: np.arctan2(p[1], p[0]))\n",
    "polygon = plt.Polygon(pos_topo, color=vcolor.white)\n",
    "border = plt.Polygon(pos_topo, color=vcolor.grey, ls=':', lw=0.5, fill=False)\n",
    "ax.add_patch(polygon)\n",
    "ax.add_patch(border)\n",
    "\n",
    "for i, pos in enumerate(pos_others):\n",
    "\n",
    "    include = (i in indices)\n",
    "\n",
    "    color = color_blue if include else color_gray\n",
    "\n",
    "    if include:\n",
    "        x, y = pos\n",
    "        \n",
    "        ax.plot([0, x], [0, y], color=color_blue)\n",
    "\n",
    "    vplot.plot_circle(ax, pos, radius=radius_agent, color=color, zorder=2, fill=True)\n",
    "vplot.plot_circle(ax, (0, 0), radius=radius_agent, color=vcolor.focal, zorder=99)\n",
    "ax.set(aspect='equal')\n",
    "ax.set(xlim=lim, ylim=lim)\n",
    "ax.set(xticks=[], yticks=[])\n",
    "fig.savefig(f'3_neighbor_selection_topological.pdf', bbox_inches='tight')"
   ]
  },
  {
   "cell_type": "markdown",
   "metadata": {},
   "source": [
    "# Voronoi"
   ]
  },
  {
   "cell_type": "code",
   "execution_count": null,
   "metadata": {},
   "outputs": [],
   "source": [
    "fig, ax = plt.subplots(figsize=figsize)\n",
    "\n",
    "pos_all = np.insert(pos_others, 0, np.zeros(2), axis=0)\n",
    "vor = Voronoi(pos_all)\n",
    "tri = Delaunay(pos_all)\n",
    "neighbors = np.array(vgeom.voronoi_neighbors(pos_all)[0]) - 1\n",
    "fig = voronoi_plot_2d(vor, ax=ax, show_vertices=False, point_size=0, line_colors=vcolor.grey, line_width=0.5, line_style=':')\n",
    "\n",
    "# Color all non neighbor regions light grey\n",
    "for index, r in enumerate(vor.point_region):\n",
    "    region = vor.regions[r]\n",
    "    if index - 1 in neighbors or index == 0:\n",
    "        continue\n",
    "    if not -1 in region:\n",
    "        polygon = [vor.vertices[i] for i in region]\n",
    "        ax.fill(*zip(*polygon), color=vcolor.lightgrey)\n",
    "\n",
    "for i, pos in enumerate(pos_others):\n",
    "\n",
    "    isneighbor = (i in neighbors)\n",
    "\n",
    "    color = color_blue if isneighbor else color_gray\n",
    "    vplot.plot_circle(ax, pos, radius=radius_agent, color=color, zorder=2, fill=True)\n",
    "    \n",
    "vplot.plot_circle(ax, (0, 0), radius=radius_agent, color=vcolor.focal, zorder=99)\n",
    "ax.set(aspect='equal')\n",
    "ax.set(xlim=lim, ylim=lim)\n",
    "ax.set(xticks=[], yticks=[])\n",
    "fig.savefig(f'4_neighbor_selection_voronoi.pdf', bbox_inches='tight')"
   ]
  },
  {
   "cell_type": "code",
   "execution_count": null,
   "metadata": {},
   "outputs": [],
   "source": []
  }
 ],
 "metadata": {
  "interpreter": {
   "hash": "31f2aee4e71d21fbe5cf8b01ff0e069b9275f58929596ceb00d14d90e3e16cd6"
  },
  "kernelspec": {
   "display_name": "Python 3.8.2 64-bit",
   "name": "python3"
  },
  "language_info": {
   "codemirror_mode": {
    "name": "ipython",
    "version": 3
   },
   "file_extension": ".py",
   "mimetype": "text/x-python",
   "name": "python",
   "nbconvert_exporter": "python",
   "pygments_lexer": "ipython3",
   "version": "3.6.9"
  },
  "orig_nbformat": 4
 },
 "nbformat": 4,
 "nbformat_minor": 2
}
