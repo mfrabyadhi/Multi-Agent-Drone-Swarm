{
    "cells": [
        {
            "cell_type": "code",
            "execution_count": null,
            "metadata": {},
            "outputs": [],
            "source": [
                "import xarray as xr\n",
                "import matplotlib.pyplot as plt\n",
                "import numpy as np\n",
                "import glob\n",
                "import os\n",
                "\n",
                "from addict import Dict\n",
                "\n",
                "from vmodel.util import color as vcolor"
            ]
        },
        {
            "cell_type": "code",
            "execution_count": null,
            "metadata": {},
            "outputs": [],
            "source": [
                "plt.rcParams['figure.figsize'] = [4, 3.5]\n",
                "plt.rcParams['figure.autolayout'] = True"
            ]
        },
        {
            "cell_type": "code",
            "execution_count": null,
            "metadata": {},
            "outputs": [],
            "source": [
                "data_dir = '/home/fabian/vmodel_datasets/neighbor_selection/pointmass'"
            ]
        },
        {
            "cell_type": "code",
            "execution_count": null,
            "metadata": {},
            "outputs": [],
            "source": [
                "paths = sorted(glob.glob(data_dir + '/**/merged_*.nc', recursive=True))\n",
                "len(paths)"
            ]
        },
        {
            "cell_type": "code",
            "execution_count": null,
            "metadata": {},
            "outputs": [],
            "source": [
                "# Read datasets\n",
                "expdict = Dict()\n",
                "for path in paths:\n",
                "    dirname = os.path.dirname(path)\n",
                "    dist_str, exp = dirname.split(os.path.sep)[-2:]\n",
                "    dist = int(dist_str.replace('dist', ''))\n",
                "    ds = xr.open_dataset(path)\n",
                "    ds['nndist_min'] = ds.nndist.min('agent')\n",
                "    del ds['nndist']\n",
                "    ds['nvisible_mean'] = ds.nvisible.mean('agent')\n",
                "    del ds['nvisible']\n",
                "    expdict[dist][exp] = ds"
            ]
        },
        {
            "cell_type": "code",
            "execution_count": null,
            "metadata": {},
            "outputs": [],
            "source": [
                "distdict = Dict()\n",
                "for dist in expdict:\n",
                "    ds = xr.concat(expdict[dist].values(), 'exp')\n",
                "    ds.coords['exp'] = list(expdict[dist].keys())\n",
                "    distdict[dist] = ds"
            ]
        },
        {
            "cell_type": "code",
            "execution_count": null,
            "metadata": {},
            "outputs": [],
            "source": [
                "# Concatenate datasets along distance\n",
                "ds = xr.concat(distdict.values(), 'dist')\n",
                "ds.coords['dist'] = list(distdict.keys())"
            ]
        },
        {
            "cell_type": "code",
            "execution_count": null,
            "metadata": {},
            "outputs": [],
            "source": [
                "if 'agent' in ds.coords:\n",
                "    del ds.coords['agent']"
            ]
        },
        {
            "cell_type": "code",
            "execution_count": null,
            "metadata": {},
            "outputs": [],
            "source": [
                "labels = {\n",
                "    'metric': 'metric',\n",
                "    'visual': 'visual',\n",
                "    'visual_myopic': 'visual + myopic',\n",
                "    'visual_topo6': 'visual + topological',\n",
                "    'visual_voronoi': 'visual + voronoi'\n",
                "}"
            ]
        },
        {
            "cell_type": "code",
            "execution_count": null,
            "metadata": {},
            "outputs": [],
            "source": [
                "colors = {\n",
                "    'metric': vcolor.metric,\n",
                "    'visual': vcolor.visual,\n",
                "    'visual_myopic': vcolor.myopic,\n",
                "    'visual_topo6': vcolor.topological,\n",
                "    'visual_voronoi': vcolor.voronoi\n",
                "}"
            ]
        },
        {
            "cell_type": "code",
            "execution_count": null,
            "metadata": {},
            "outputs": [],
            "source": [
                "timeslice = slice(150, 200)"
            ]
        },
        {
            "cell_type": "code",
            "execution_count": null,
            "metadata": {},
            "outputs": [],
            "source": [
                "dst = ds.isel(time=timeslice).mean('time')"
            ]
        },
        {
            "cell_type": "code",
            "execution_count": null,
            "metadata": {},
            "outputs": [],
            "source": [
                "# Only select dist = 1\n",
                "dssize = dst.sel(dist=1)"
            ]
        },
        {
            "cell_type": "code",
            "execution_count": null,
            "metadata": {},
            "outputs": [],
            "source": [
                "def plot_size(ax, da):\n",
                "    for exp in da.exp.data:\n",
                "        data = da.sel(exp=exp)\n",
                "        xs, ys, yerrs = data.nagents, data.mean('run'), data.std('run')\n",
                "        label, color = labels[exp], colors[exp]\n",
                "        ax.errorbar(xs, ys, yerrs, fmt='-o', capsize=3, label=label, color=color)\n",
                "    ax.set(xscale='log')\n",
                "    ax.set(xticks=ds.nagents, xticklabels=ds.nagents.data)\n",
                "    ax.set(xlabel=r'number of agents $N$')\n",
                "    ax.grid()\n",
                "    ax.legend()"
            ]
        },
        {
            "cell_type": "markdown",
            "metadata": {},
            "source": [
                "## Distance"
            ]
        },
        {
            "cell_type": "code",
            "execution_count": null,
            "metadata": {},
            "outputs": [],
            "source": [
                "fig, ax = plt.subplots()\n",
                "plot_size(ax, dssize.nndist_min)\n",
                "ax.set(ylabel=r'min. distance $d^\\mathrm{min}$ [$m$]')\n",
                "ax.set(ylim=(0.0, None))\n",
                "fig.savefig(f'size_nndist_min.pdf')"
            ]
        },
        {
            "cell_type": "markdown",
            "metadata": {},
            "source": [
                "## Order"
            ]
        },
        {
            "cell_type": "code",
            "execution_count": null,
            "metadata": {},
            "outputs": [],
            "source": [
                "fig, ax = plt.subplots()\n",
                "plot_size(ax, dssize.order)\n",
                "ax.set(ylabel=r'avg. order $\\phi^\\mathrm{order}$')\n",
                "ax.set(ylim=(0.80, None))\n",
                "fig.savefig(f'size_order.pdf')"
            ]
        },
        {
            "cell_type": "markdown",
            "metadata": {},
            "source": [
                "## Union"
            ]
        },
        {
            "cell_type": "code",
            "execution_count": null,
            "metadata": {},
            "outputs": [],
            "source": [
                "fig, ax = plt.subplots()\n",
                "plot_size(ax, dssize.union)\n",
                "ax.set(ylabel=r'avg. union $\\phi^\\mathrm{union}$')\n",
                "fig.savefig(f'size_union.pdf')"
            ]
        },
        {
            "cell_type": "markdown",
            "metadata": {},
            "source": [
                "## Neighbors"
            ]
        },
        {
            "cell_type": "code",
            "execution_count": null,
            "metadata": {},
            "outputs": [],
            "source": [
                "fig, ax = plt.subplots()\n",
                "plot_size(ax, dssize.nvisible_mean)\n",
                "ax.set(ylabel=r'avg. number of neighbors $N_i$')\n",
                "ax.set(yscale='log')\n",
                "ax.set(yticks=dssize.nagents, yticklabels=dssize.nagents.data)\n",
                "ax.set(ylim=(1, 3000))\n",
                "ax.legend(loc='upper left')\n",
                "fig.savefig(f'size_nvisible_mean.pdf')"
            ]
        },
        {
            "cell_type": "code",
            "execution_count": null,
            "metadata": {},
            "outputs": [],
            "source": []
        }
    ],
    "metadata": {
        "interpreter": {
            "hash": "31f2aee4e71d21fbe5cf8b01ff0e069b9275f58929596ceb00d14d90e3e16cd6"
        },
        "kernelspec": {
            "display_name": "Python 3.6.9 64-bit",
            "name": "python3"
        },
        "language_info": {
            "codemirror_mode": {
                "name": "ipython",
                "version": 3
            },
            "file_extension": ".py",
            "mimetype": "text/x-python",
            "name": "python",
            "nbconvert_exporter": "python",
            "pygments_lexer": "ipython3",
            "version": "3.6.9"
        },
        "orig_nbformat": 4
    },
    "nbformat": 4,
    "nbformat_minor": 2
}
